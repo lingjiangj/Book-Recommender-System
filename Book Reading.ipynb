{
 "cells": [
  {
   "cell_type": "markdown",
   "metadata": {},
   "source": [
    "## Assignment 1 "
   ]
  },
  {
   "cell_type": "markdown",
   "metadata": {},
   "source": [
    "#### Read prediction"
   ]
  },
  {
   "cell_type": "code",
   "execution_count": 1,
   "metadata": {},
   "outputs": [],
   "source": [
    "import numpy\n",
    "import urllib\n",
    "import scipy.optimize\n",
    "import random\n",
    "import gzip\n",
    "import csv\n",
    "from collections import defaultdict\n",
    "from sklearn.metrics import accuracy_score\n",
    "import matplotlib.pyplot as plt"
   ]
  },
  {
   "cell_type": "code",
   "execution_count": 2,
   "metadata": {},
   "outputs": [],
   "source": [
    "# input file using gzip\n",
    "path = \"train_Interactions.csv.gz\"\n",
    "f = gzip.open(path,\"rt\",encoding=\"utf8\")\n",
    "reader = csv.reader(f,delimiter = \",\")"
   ]
  },
  {
   "cell_type": "code",
   "execution_count": 3,
   "metadata": {},
   "outputs": [],
   "source": [
    "# reading the file to build dataset\n",
    "dataset = []\n",
    "first = True\n",
    "for line in reader:\n",
    "    if first:\n",
    "        header = line\n",
    "        first = False\n",
    "    else:\n",
    "        d = dict(zip(header,line))\n",
    "        # convert strings to integers for some fields\n",
    "        d[\"rating\"] = int(d[\"rating\"])\n",
    "        dataset.append(d)"
   ]
  },
  {
   "cell_type": "code",
   "execution_count": 4,
   "metadata": {},
   "outputs": [],
   "source": [
    "# split the training data\n",
    "data_train = dataset[:190000]\n",
    "data_valid = dataset[190000:]"
   ]
  },
  {
   "cell_type": "code",
   "execution_count": 5,
   "metadata": {},
   "outputs": [],
   "source": [
    "# find all user ids and book ids, and pair them\n",
    "allUserID=[]\n",
    "allBookID=[]\n",
    "UsersReadBooks = {}\n",
    "\n",
    "for i in dataset:\n",
    "    allUserID.append(i[\"userID\"])\n",
    "    allBookID.append(i[\"bookID\"])\n",
    "    if UsersReadBooks.get(i[\"userID\"]):\n",
    "        UsersReadBooks[i[\"userID\"]].append(i[\"bookID\"])\n",
    "    else:\n",
    "        UsersReadBooks[i[\"userID\"]] = [i[\"bookID\"]]\n",
    "\n",
    "unique_users = list(set(allUserID))\n",
    "unique_books = list(set(allBookID))"
   ]
  },
  {
   "cell_type": "code",
   "execution_count": 8,
   "metadata": {},
   "outputs": [],
   "source": [
    "# positive validation data \n",
    "positive_valid = []\n",
    "for i in data_valid:\n",
    "        positive_valid.append([i[\"userID\"],i[\"bookID\"]])"
   ]
  },
  {
   "cell_type": "code",
   "execution_count": 10,
   "metadata": {},
   "outputs": [],
   "source": [
    "# negative validation data\n",
    "negative_valid_dict = {}\n",
    "for c in data_valid:\n",
    "    bid = random.choice(unique_books)\n",
    "    uid = c[\"userID\"]\n",
    "    while bid in UsersReadBooks[c[\"userID\"]]:\n",
    "        bid = random.choice(unique_books)\n",
    "    if negative_valid_dict.get(uid):\n",
    "        negative_valid_dict[uid].append(bid)\n",
    "    else:\n",
    "        negative_valid_dict[uid]= [bid]\n",
    "        \n",
    "# negative validation dataset to list\n",
    "negative_valid = []\n",
    "\n",
    "for i in negative_valid_dict.keys():\n",
    "    if len(negative_valid_dict[i]) > 1:\n",
    "        for ii in negative_valid_dict[i]:\n",
    "            negative_valid.append([i,ii])\n",
    "    else:\n",
    "        negative_valid.append([i,negative_valid_dict[i][0]])"
   ]
  },
  {
   "cell_type": "code",
   "execution_count": 11,
   "metadata": {},
   "outputs": [],
   "source": [
    "y_valid = [0 for i in range(len(negative_valid))] + [1 for i in range(len(positive_valid))]\n",
    "X_valid = negative_valid + positive_valid "
   ]
  },
  {
   "cell_type": "markdown",
   "metadata": {},
   "source": [
    "#### Book popularity"
   ]
  },
  {
   "cell_type": "code",
   "execution_count": 17,
   "metadata": {},
   "outputs": [],
   "source": [
    "# Baseline - using train dataset to get the most popular books data\n",
    "bookCount = defaultdict(int)\n",
    "totalRead = 0\n",
    "\n",
    "for c in dataset:\n",
    "    user,book = c[\"userID\"],c[\"bookID\"]\n",
    "    bookCount[book] += 1\n",
    "    totalRead += 1"
   ]
  },
  {
   "cell_type": "markdown",
   "metadata": {},
   "source": [
    "#### Jaccard Similarity"
   ]
  },
  {
   "cell_type": "code",
   "execution_count": 22,
   "metadata": {},
   "outputs": [],
   "source": [
    "# pair users and books in dataset\n",
    "TrainUserID = []\n",
    "TrainBookID = []\n",
    "UsersPerBook = defaultdict(set)\n",
    "BooksPerUser = defaultdict(set)\n",
    "\n",
    "for i in dataset:\n",
    "    TrainUserID.append(i[\"userID\"])\n",
    "    TrainBookID.append(i[\"bookID\"])\n",
    "    UsersPerBook[i[\"bookID\"]].add(i[\"userID\"])\n",
    "    BooksPerUser[i[\"userID\"]].add(i[\"bookID\"])\n",
    "\n",
    "unique_users_train = list(set(TrainUserID))\n",
    "unique_books_train = list(set(TrainBookID))"
   ]
  },
  {
   "cell_type": "code",
   "execution_count": 19,
   "metadata": {},
   "outputs": [],
   "source": [
    "# Jaccard Predictor\n",
    "def Jaccard(s1, s2):\n",
    "    numer = len(s1.intersection(s2))\n",
    "    denom = len(s1.union(s2))\n",
    "    return numer / denom\n",
    "\n",
    "def mostSimilarFast(user, book):\n",
    "    similarities = []\n",
    "    books = BooksPerUser[user]\n",
    "\n",
    "    for b in books:\n",
    "        if b == book:\n",
    "            continue\n",
    "        users = UsersPerBook[b]\n",
    "        sim = Jaccard(users, UsersPerBook[book])\n",
    "        similarities.append(sim)\n",
    "      \n",
    "        mean = sum(similarities)/len(similarities)\n",
    "   \n",
    "    return mean"
   ]
  },
  {
   "cell_type": "markdown",
   "metadata": {},
   "source": [
    "#### Prediction"
   ]
  },
  {
   "cell_type": "code",
   "execution_count": 20,
   "metadata": {},
   "outputs": [],
   "source": [
    "# test on validation dataset\n",
    "user_book_sim = defaultdict(list)\n",
    "for x in X_valid:\n",
    "    u = x[0]\n",
    "    b = x[1]\n",
    "    s = mostSimilarFast(u,b) * bookCount[b]\n",
    "    comb = (u,b)\n",
    "    user_book_sim[u].append ((s,comb))\n",
    "\n",
    "for i in user_book_sim:\n",
    "    user_book_sim[i].sort()"
   ]
  },
  {
   "cell_type": "code",
   "execution_count": null,
   "metadata": {},
   "outputs": [],
   "source": [
    "# user_book_sim(X_valid)"
   ]
  },
  {
   "cell_type": "code",
   "execution_count": 21,
   "metadata": {},
   "outputs": [],
   "source": [
    "y_pred = []\n",
    "for x in X_valid:\n",
    "    u = x[0]\n",
    "    b = x[1]\n",
    "    i = (u,b)\n",
    "    book_sim_list = user_book_sim[u]\n",
    "    p = 1\n",
    "    for n in range(int(len(book_sim_list)/2)):\n",
    "        if i in book_sim_list[n]:\n",
    "            p = 0\n",
    "    y_pred.append(p)"
   ]
  },
  {
   "cell_type": "code",
   "execution_count": null,
   "metadata": {},
   "outputs": [],
   "source": [
    "accuracy_score(y_pred, y_valid)"
   ]
  },
  {
   "cell_type": "markdown",
   "metadata": {},
   "source": [
    "#### predict on the testing set"
   ]
  },
  {
   "cell_type": "code",
   "execution_count": null,
   "metadata": {},
   "outputs": [],
   "source": [
    "X_test = []\n",
    "for l in open(\"pairs_Read.txt\"):\n",
    "    if l.startswith(\"userID\"):\n",
    "        # header\n",
    "#         predictions.write(l)\n",
    "        continue\n",
    "    u, b = l.strip().split(\"-\")\n",
    "    X_test.append([u,b])"
   ]
  },
  {
   "cell_type": "code",
   "execution_count": null,
   "metadata": {},
   "outputs": [],
   "source": [
    "user_book_sim = defaultdict(list)\n",
    "for x in X_test:\n",
    "    u = x[0]\n",
    "    b = x[1]\n",
    "    s = mostSimilarFast(u,b) * bookCount[b]\n",
    "    comb = (u,b)\n",
    "    user_book_sim[u].append ((s,comb))\n",
    "\n",
    "for i in user_book_sim:\n",
    "    user_book_sim[i].sort()"
   ]
  },
  {
   "cell_type": "code",
   "execution_count": null,
   "metadata": {},
   "outputs": [],
   "source": [
    "y_pred = []\n",
    "for x in X_test:\n",
    "    u = x[0]\n",
    "    b = x[1]\n",
    "    i = (u,b)\n",
    "    book_sim_list = user_book_sim[u]\n",
    "    p = 1\n",
    "    for n in range(int(len(book_sim_list)/2)):\n",
    "        if i in book_sim_list[n]:\n",
    "            p = 0\n",
    "    y_pred.append(p)"
   ]
  },
  {
   "cell_type": "code",
   "execution_count": null,
   "metadata": {},
   "outputs": [],
   "source": [
    "predictions = open(\"predictions_Read.txt\", \"w\")\n",
    "n = -2\n",
    "for l in open(\"pairs_Read.txt\"):\n",
    "    n += 1\n",
    "    if l.startswith(\"userID\"):\n",
    "        # header\n",
    "        predictions.write(l)\n",
    "        continue\n",
    "    u, b = l.strip().split(\"-\")\n",
    "    p = y_pred[n]\n",
    "    predictions.write(u + \"-\" + b + \",\" + str(p) + \"\\n\")\n",
    "\n",
    "predictions.close()"
   ]
  },
  {
   "cell_type": "code",
   "execution_count": null,
   "metadata": {},
   "outputs": [],
   "source": []
  }
 ],
 "metadata": {
  "kernelspec": {
   "display_name": "Python 3",
   "language": "python",
   "name": "python3"
  },
  "language_info": {
   "codemirror_mode": {
    "name": "ipython",
    "version": 3
   },
   "file_extension": ".py",
   "mimetype": "text/x-python",
   "name": "python",
   "nbconvert_exporter": "python",
   "pygments_lexer": "ipython3",
   "version": "3.6.8"
  }
 },
 "nbformat": 4,
 "nbformat_minor": 4
}
